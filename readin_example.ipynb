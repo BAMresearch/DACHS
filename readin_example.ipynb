{
 "cells": [
  {
   "attachments": {},
   "cell_type": "markdown",
   "metadata": {},
   "source": [
    "# Read-in example of the synthesis logs with plotting\n",
    "\n",
    "This notebook shows an example on how to read interesting informatino from the synthesis files, and plot such information. "
   ]
  },
  {
   "cell_type": "code",
   "execution_count": 1,
   "metadata": {},
   "outputs": [],
   "source": [
    "from pathlib import Path\n",
    "import h5py\n",
    "import nexusformat.nexus as nx # makes it easier to extract information. \n",
    "import numpy as np\n",
    "from attrs import Factory\n",
    "from attrs import define, validators, field, cmp_using, fields\n",
    "import pandas as pd\n",
    "\n",
    "import logging\n",
    "from typing import Iterable\n",
    "from typing import Any, NoReturn\n",
    "\n",
    "import plotly.express as px"
   ]
  },
  {
   "cell_type": "code",
   "execution_count": 2,
   "metadata": {},
   "outputs": [],
   "source": [
    "# Setting up some flexible HDF reading methods (copied from DataMerge dataclasses and readers for now): \n",
    "\n",
    "# Mixin class for making a dict-like object out of an attrs class\n",
    "# from: https://github.com/python-attrs/attrs/issues/879\n",
    "\n",
    "\n",
    "\n",
    "\n",
    "\n",
    "\n",
    "\n",
    "import yaml\n",
    "\n",
    "\n",
    "class gimmeItems:  # used to be MutableMappingMixin(MutableMapping)\n",
    "    \"\"\"Mixin class to make attrs classes quack like a dictionary (well,\n",
    "    technically a mutable mapping). ONLY use this with attrs classes.\n",
    "\n",
    "    Provides keys(), values(), and items() methods in order to be\n",
    "    dict-like in addition to MutableMapping-like. Also provides pop(),\n",
    "    but it just raises a TypeError :)\n",
    "    \"\"\"\n",
    "\n",
    "    __slots__ = ()  # May as well save on memory?\n",
    "\n",
    "    def __iter__(self) -> Iterable:\n",
    "        for ifield in fields(self.__class__):\n",
    "            yield ifield.name\n",
    "\n",
    "    def __len__(self) -> int:\n",
    "        return len(fields(self.__class__))\n",
    "\n",
    "    def __getitem__(self, k: str) -> Any:\n",
    "        \"\"\"\n",
    "        Adapted from:\n",
    "        https://github.com/python-attrs/attrs/issues/487#issuecomment-660727537\n",
    "        \"\"\"\n",
    "        try:\n",
    "            return self.__getattribute__(k)\n",
    "        except AttributeError as exc:\n",
    "            raise KeyError(str(exc)) from None\n",
    "\n",
    "    def __delitem__(self, v: str) -> NoReturn:\n",
    "        raise TypeError(\"Cannot delete fields for attrs classes.\")\n",
    "\n",
    "    def __setitem__(self, k: str, v: Any) -> None:\n",
    "        self.__setattr__(k, v)\n",
    "\n",
    "    def pop(self, key, default=None) -> NoReturn:\n",
    "        raise TypeError(\"Cannot pop fields from attrs classes.\")\n",
    "\n",
    "    def keys(self) -> Iterable:\n",
    "        return self.__iter__()\n",
    "\n",
    "    def values(self) -> Iterable:\n",
    "        for key in self.__iter__():\n",
    "            yield self.__getattribute__(key)\n",
    "\n",
    "    def items(self) -> Iterable:\n",
    "        for key in self.__iter__():\n",
    "            yield key, self.__getattribute__(key)\n",
    "\n",
    "# end copy\n",
    "\n",
    "# First, we set the read names and locations here:\n",
    "@define\n",
    "class HDFPathsObj(gimmeItems):\n",
    "    \"\"\"\n",
    "    Config carrying the HDF5 path locations for reading datafiles.\n",
    "    \"\"\"\n",
    "\n",
    "    # Q: str = field(\n",
    "    #     default=\"/entry/result/Q\", validator=validators.instance_of(str), converter=str\n",
    "    # )\n",
    "    # I: str = field(\n",
    "    #     default=\"/entry/result/I\", validator=validators.instance_of(str), converter=str\n",
    "    # )\n",
    "    # ISigma: str = field(\n",
    "    #     default=\"/entry/result/ISigma\",\n",
    "    #     validator=validators.instance_of(str),\n",
    "    #     converter=str,\n",
    "    # )\n",
    "    SampleID: str = field(\n",
    "        default=\"/DACHS/MOF_synthesis_1/RawLog/0/SampleID\", # hdf5 location\n",
    "        validator=validators.instance_of(str), # locations are in string format\n",
    "        converter=str,\n",
    "    )\n",
    "    ExperimentID: str = field(\n",
    "        default=\"/DACHS/MOF_synthesis_1/RawLog/0/ExperimentID\",\n",
    "        validator=validators.instance_of(str),\n",
    "        converter=str,\n",
    "    )    \n",
    "    InjectionSpeed: str = field(\n",
    "        default=\"/DACHS/MOF_synthesis_1/ExtraInformation/InjectionSpeed\", # hdf5 location\n",
    "        validator=validators.instance_of(str), # locations are in string format\n",
    "        converter=str,\n",
    "    )\n",
    "    # not able to read attributes yet\n",
    "    # InjectionSpeedUnits: str = field(\n",
    "    #     default=\"/AutoMOF5/MOF_synthesis_1/ExtraInformation/InjectionSpeed\",\n",
    "    #     validator=validators.instance_of(str),\n",
    "    #     converter=str,\n",
    "    # )\n",
    "    MetalToLinkerRatio: str = field(\n",
    "        default=\"/DACHS/MOF_synthesis_1/ExtraInformation/MetalToLinkerRatio\", # hdf5 location\n",
    "        validator=validators.instance_of(str), # locations are in string format\n",
    "        converter=str,\n",
    "    )\n",
    "    MetalToMethanolRatio: str = field(\n",
    "        default=\"/DACHS/MOF_synthesis_1/ExtraInformation/MetalToMethanolRatio\",\n",
    "        validator=validators.instance_of(str),\n",
    "        converter=str,\n",
    "    )\n",
    "    ReactionTime: str = field(\n",
    "        default=\"/DACHS/MOF_synthesis_1/ExtraInformation/ReactionTime\",\n",
    "        validator=validators.instance_of(str),\n",
    "        converter=str,\n",
    "    )    \n",
    "    ChemicalYield: str = field(\n",
    "        default=\"/DACHS/Chemicals/ChemicalYield\",\n",
    "        validator=validators.instance_of(str),\n",
    "        converter=str,\n",
    "    )\n",
    "\n",
    "# then we configure the defaults for the same: \n",
    "@define\n",
    "class HDFDefaultsObj(gimmeItems):\n",
    "    \"\"\"In case the preset HDF5 paths are empty, defaults can be used for some non-critical items\"\"\"\n",
    "\n",
    "    SampleID: str = field(\n",
    "        default=\"\", validator=validators.instance_of(str), converter=str\n",
    "    )\n",
    "    ExperimentID: str = field(\n",
    "        default=\"\", validator=validators.instance_of(str), converter=str\n",
    "    )\n",
    "    # I guess these should be pint Units at some point. \n",
    "    InjectionSpeed: float = field(\n",
    "        default=0.0, # hdf5 location\n",
    "        validator=validators.instance_of(float), # locations are in string format\n",
    "        converter=float,\n",
    "    )\n",
    "    MetalToLinkerRatio: float = field(\n",
    "        default=0.0, # hdf5 location\n",
    "        validator=validators.instance_of(float), # locations are in string format\n",
    "        converter=float,\n",
    "    )\n",
    "    MetalToMethanolRatio: float = field(\n",
    "        default=0.0, # hdf5 location\n",
    "        validator=validators.instance_of(float), # locations are in string format\n",
    "        converter=float,\n",
    "    )\n",
    "    ReactionTime: float = field(\n",
    "        default=0.0, # hdf5 location\n",
    "        validator=validators.instance_of(float), # locations are in string format\n",
    "        converter=float,\n",
    "    )\n",
    "    ChemicalYield: float = field(\n",
    "        default=0.0, # hdf5 location\n",
    "        validator=validators.instance_of(float), # locations are in string format\n",
    "        converter=float,\n",
    "    )\n",
    "\n",
    "\n",
    "@define\n",
    "class readConfigObj(gimmeItems):\n",
    "    \"\"\"\n",
    "    Object that carries information on how to read the datafiles\n",
    "    \"\"\"\n",
    "\n",
    "    hdfPaths: HDFPathsObj = field(\n",
    "        default=Factory(HDFPathsObj),\n",
    "        validator=validators.instance_of(HDFPathsObj),\n",
    "    )\n",
    "\n",
    "    hdfDefaults: HDFDefaultsObj = field(\n",
    "        default=Factory(HDFDefaultsObj),\n",
    "        validator=validators.instance_of(HDFDefaultsObj),\n",
    "    )\n",
    "\n",
    "# this could be used to read the configuration from yaml files: \n",
    "def readConfigObjFromYaml(filename: Path) -> readConfigObj:\n",
    "    assert (\n",
    "        filename.is_file()\n",
    "    ), f\"Read configuration filename {filename.as_posix()} does not exist\"\n",
    "    with open(filename, \"r\") as f:\n",
    "        configDict = yaml.safe_load(f)\n",
    "    if \"readConfig\" not in configDict.keys():\n",
    "        return readConfigObj(HDFPathsObj(), HDFDefaultsObj())\n",
    "    print(configDict[\"readConfig\"])\n",
    "    HDFPaths = HDFPathsObj(**configDict[\"readConfig\"].get(\"HDFPaths\", {}))\n",
    "    HDFDefaults = HDFDefaultsObj(**configDict[\"readConfig\"].get(\"HDFDefaults\", {}))\n",
    "    return readConfigObj(HDFPaths, HDFDefaults)\n",
    "\n",
    "\n",
    "# now for the actual reader, modified here slightly to output to Pandas Dataframe:\n",
    "def scatteringDataObjFromNX(\n",
    "    filename: Path, readConfig: readConfigObj\n",
    ") -> pd.DataFrame:\n",
    "    \"\"\"Returns a populated scatteringDataObj by reading the data from a Processed MOUSE NeXus file\"\"\"\n",
    "    assert filename.is_file(), logging.warning(\n",
    "        f'{filename=} cannot be accessed from {Path(\".\").absolute().as_posix()}'\n",
    "    )\n",
    "    with h5py.File(filename, \"r\") as h5f:\n",
    "        kvs = {}\n",
    "        for key in readConfig.hdfPaths.keys():\n",
    "            hPath = getattr(readConfig.hdfPaths, key)\n",
    "            if hPath in h5f:\n",
    "                val = h5f[hPath][()]\n",
    "                if isinstance(val, np.ndarray):\n",
    "                    val = val.flatten()\n",
    "            else:\n",
    "                assert key in readConfig.hdfDefaults.keys(), logging.error(\n",
    "                    f\"NeXus file {filename=} does not contain information for {key=} at specified HDF5 Path {hPath}\"\n",
    "                )\n",
    "                val = getattr(readConfig.hdfDefaults, key)\n",
    "            if isinstance(val, bytes): val=val.decode('utf-8')\n",
    "            kvs.update({key: val})\n",
    "\n",
    "    return pd.DataFrame(data=kvs, index=[0])"
   ]
  },
  {
   "cell_type": "code",
   "execution_count": 3,
   "metadata": {},
   "outputs": [
    {
     "data": {
      "text/html": [
       "<div>\n",
       "<style scoped>\n",
       "    .dataframe tbody tr th:only-of-type {\n",
       "        vertical-align: middle;\n",
       "    }\n",
       "\n",
       "    .dataframe tbody tr th {\n",
       "        vertical-align: top;\n",
       "    }\n",
       "\n",
       "    .dataframe thead th {\n",
       "        text-align: right;\n",
       "    }\n",
       "</style>\n",
       "<table border=\"1\" class=\"dataframe\">\n",
       "  <thead>\n",
       "    <tr style=\"text-align: right;\">\n",
       "      <th></th>\n",
       "      <th>SampleID</th>\n",
       "      <th>ExperimentID</th>\n",
       "      <th>InjectionSpeed</th>\n",
       "      <th>MetalToLinkerRatio</th>\n",
       "      <th>MetalToMethanolRatio</th>\n",
       "      <th>ReactionTime</th>\n",
       "      <th>ChemicalYield</th>\n",
       "      <th>ReactionType</th>\n",
       "    </tr>\n",
       "  </thead>\n",
       "  <tbody>\n",
       "    <tr>\n",
       "      <th>0</th>\n",
       "      <td>H002</td>\n",
       "      <td>AutoMOFs05</td>\n",
       "      <td>15</td>\n",
       "      <td>0.132734</td>\n",
       "      <td>0.007145</td>\n",
       "      <td>1231.0</td>\n",
       "      <td>0.266993</td>\n",
       "      <td>H</td>\n",
       "    </tr>\n",
       "    <tr>\n",
       "      <th>1</th>\n",
       "      <td>H003</td>\n",
       "      <td>AutoMOFs05</td>\n",
       "      <td>15</td>\n",
       "      <td>0.132734</td>\n",
       "      <td>0.007145</td>\n",
       "      <td>1200.0</td>\n",
       "      <td>0.295804</td>\n",
       "      <td>H</td>\n",
       "    </tr>\n",
       "    <tr>\n",
       "      <th>2</th>\n",
       "      <td>H004</td>\n",
       "      <td>AutoMOFs05</td>\n",
       "      <td>15</td>\n",
       "      <td>0.132734</td>\n",
       "      <td>0.007145</td>\n",
       "      <td>1231.0</td>\n",
       "      <td>0.292078</td>\n",
       "      <td>H</td>\n",
       "    </tr>\n",
       "    <tr>\n",
       "      <th>3</th>\n",
       "      <td>H005</td>\n",
       "      <td>AutoMOFs05</td>\n",
       "      <td>15</td>\n",
       "      <td>0.132734</td>\n",
       "      <td>0.007145</td>\n",
       "      <td>1191.0</td>\n",
       "      <td>0.292327</td>\n",
       "      <td>H</td>\n",
       "    </tr>\n",
       "    <tr>\n",
       "      <th>4</th>\n",
       "      <td>H006</td>\n",
       "      <td>AutoMOFs05</td>\n",
       "      <td>15</td>\n",
       "      <td>0.132734</td>\n",
       "      <td>0.007145</td>\n",
       "      <td>1286.0</td>\n",
       "      <td>0.290091</td>\n",
       "      <td>H</td>\n",
       "    </tr>\n",
       "    <tr>\n",
       "      <th>5</th>\n",
       "      <td>H007</td>\n",
       "      <td>AutoMOFs05</td>\n",
       "      <td>15</td>\n",
       "      <td>0.132734</td>\n",
       "      <td>0.007145</td>\n",
       "      <td>1225.0</td>\n",
       "      <td>0.290340</td>\n",
       "      <td>H</td>\n",
       "    </tr>\n",
       "    <tr>\n",
       "      <th>6</th>\n",
       "      <td>H008</td>\n",
       "      <td>AutoMOFs05</td>\n",
       "      <td>15</td>\n",
       "      <td>0.132734</td>\n",
       "      <td>0.007145</td>\n",
       "      <td>1260.0</td>\n",
       "      <td>0.283137</td>\n",
       "      <td>H</td>\n",
       "    </tr>\n",
       "    <tr>\n",
       "      <th>7</th>\n",
       "      <td>H009</td>\n",
       "      <td>AutoMOFs05</td>\n",
       "      <td>15</td>\n",
       "      <td>0.132734</td>\n",
       "      <td>0.007145</td>\n",
       "      <td>1216.0</td>\n",
       "      <td>0.293072</td>\n",
       "      <td>H</td>\n",
       "    </tr>\n",
       "    <tr>\n",
       "      <th>8</th>\n",
       "      <td>H010</td>\n",
       "      <td>AutoMOFs05</td>\n",
       "      <td>15</td>\n",
       "      <td>0.132734</td>\n",
       "      <td>0.007145</td>\n",
       "      <td>1236.0</td>\n",
       "      <td>0.284379</td>\n",
       "      <td>H</td>\n",
       "    </tr>\n",
       "    <tr>\n",
       "      <th>9</th>\n",
       "      <td>L001</td>\n",
       "      <td>AutoMOFs05</td>\n",
       "      <td>1</td>\n",
       "      <td>0.132734</td>\n",
       "      <td>0.006667</td>\n",
       "      <td>1193.0</td>\n",
       "      <td>0.300275</td>\n",
       "      <td>L</td>\n",
       "    </tr>\n",
       "    <tr>\n",
       "      <th>10</th>\n",
       "      <td>L002</td>\n",
       "      <td>AutoMOFs05</td>\n",
       "      <td>2</td>\n",
       "      <td>0.132734</td>\n",
       "      <td>0.006667</td>\n",
       "      <td>1212.0</td>\n",
       "      <td>0.328588</td>\n",
       "      <td>L</td>\n",
       "    </tr>\n",
       "    <tr>\n",
       "      <th>11</th>\n",
       "      <td>L003</td>\n",
       "      <td>AutoMOFs05</td>\n",
       "      <td>5</td>\n",
       "      <td>0.132734</td>\n",
       "      <td>0.006667</td>\n",
       "      <td>1208.0</td>\n",
       "      <td>0.341007</td>\n",
       "      <td>L</td>\n",
       "    </tr>\n",
       "    <tr>\n",
       "      <th>12</th>\n",
       "      <td>L004</td>\n",
       "      <td>AutoMOFs05</td>\n",
       "      <td>10</td>\n",
       "      <td>0.132734</td>\n",
       "      <td>0.006667</td>\n",
       "      <td>1208.0</td>\n",
       "      <td>0.361373</td>\n",
       "      <td>L</td>\n",
       "    </tr>\n",
       "    <tr>\n",
       "      <th>13</th>\n",
       "      <td>L005</td>\n",
       "      <td>AutoMOFs05</td>\n",
       "      <td>15</td>\n",
       "      <td>0.132734</td>\n",
       "      <td>0.006667</td>\n",
       "      <td>1225.0</td>\n",
       "      <td>0.342248</td>\n",
       "      <td>L</td>\n",
       "    </tr>\n",
       "    <tr>\n",
       "      <th>14</th>\n",
       "      <td>L006</td>\n",
       "      <td>AutoMOFs05</td>\n",
       "      <td>10</td>\n",
       "      <td>0.132734</td>\n",
       "      <td>0.006667</td>\n",
       "      <td>1219.0</td>\n",
       "      <td>0.338523</td>\n",
       "      <td>L</td>\n",
       "    </tr>\n",
       "    <tr>\n",
       "      <th>15</th>\n",
       "      <td>L007</td>\n",
       "      <td>AutoMOFs05</td>\n",
       "      <td>10</td>\n",
       "      <td>0.132734</td>\n",
       "      <td>0.006667</td>\n",
       "      <td>26807.0</td>\n",
       "      <td>0.412784</td>\n",
       "      <td>L</td>\n",
       "    </tr>\n",
       "    <tr>\n",
       "      <th>16</th>\n",
       "      <td>M001</td>\n",
       "      <td>AutoMOFs05</td>\n",
       "      <td>15</td>\n",
       "      <td>0.132734</td>\n",
       "      <td>0.007145</td>\n",
       "      <td>1233.0</td>\n",
       "      <td>0.185281</td>\n",
       "      <td>M</td>\n",
       "    </tr>\n",
       "    <tr>\n",
       "      <th>17</th>\n",
       "      <td>M002</td>\n",
       "      <td>AutoMOFs05</td>\n",
       "      <td>15</td>\n",
       "      <td>0.132734</td>\n",
       "      <td>0.007145</td>\n",
       "      <td>1231.0</td>\n",
       "      <td>0.182301</td>\n",
       "      <td>M</td>\n",
       "    </tr>\n",
       "    <tr>\n",
       "      <th>18</th>\n",
       "      <td>M003</td>\n",
       "      <td>AutoMOFs05</td>\n",
       "      <td>15</td>\n",
       "      <td>0.132734</td>\n",
       "      <td>0.007145</td>\n",
       "      <td>1200.0</td>\n",
       "      <td>0.188758</td>\n",
       "      <td>M</td>\n",
       "    </tr>\n",
       "    <tr>\n",
       "      <th>19</th>\n",
       "      <td>M004</td>\n",
       "      <td>AutoMOFs05</td>\n",
       "      <td>15</td>\n",
       "      <td>0.132734</td>\n",
       "      <td>0.007145</td>\n",
       "      <td>1231.0</td>\n",
       "      <td>0.202418</td>\n",
       "      <td>M</td>\n",
       "    </tr>\n",
       "    <tr>\n",
       "      <th>20</th>\n",
       "      <td>M005</td>\n",
       "      <td>AutoMOFs05</td>\n",
       "      <td>15</td>\n",
       "      <td>0.132734</td>\n",
       "      <td>0.007145</td>\n",
       "      <td>1191.0</td>\n",
       "      <td>0.196458</td>\n",
       "      <td>M</td>\n",
       "    </tr>\n",
       "    <tr>\n",
       "      <th>21</th>\n",
       "      <td>M006</td>\n",
       "      <td>AutoMOFs05</td>\n",
       "      <td>15</td>\n",
       "      <td>0.132734</td>\n",
       "      <td>0.007145</td>\n",
       "      <td>1286.0</td>\n",
       "      <td>0.192732</td>\n",
       "      <td>M</td>\n",
       "    </tr>\n",
       "    <tr>\n",
       "      <th>22</th>\n",
       "      <td>M007</td>\n",
       "      <td>AutoMOFs05</td>\n",
       "      <td>15</td>\n",
       "      <td>0.132734</td>\n",
       "      <td>0.007145</td>\n",
       "      <td>1225.0</td>\n",
       "      <td>0.199935</td>\n",
       "      <td>M</td>\n",
       "    </tr>\n",
       "    <tr>\n",
       "      <th>23</th>\n",
       "      <td>M008</td>\n",
       "      <td>AutoMOFs05</td>\n",
       "      <td>15</td>\n",
       "      <td>0.132734</td>\n",
       "      <td>0.007145</td>\n",
       "      <td>1260.0</td>\n",
       "      <td>0.190000</td>\n",
       "      <td>M</td>\n",
       "    </tr>\n",
       "    <tr>\n",
       "      <th>24</th>\n",
       "      <td>M009</td>\n",
       "      <td>AutoMOFs05</td>\n",
       "      <td>15</td>\n",
       "      <td>0.132734</td>\n",
       "      <td>0.007145</td>\n",
       "      <td>1216.0</td>\n",
       "      <td>0.199686</td>\n",
       "      <td>M</td>\n",
       "    </tr>\n",
       "    <tr>\n",
       "      <th>25</th>\n",
       "      <td>M010</td>\n",
       "      <td>AutoMOFs05</td>\n",
       "      <td>15</td>\n",
       "      <td>0.132734</td>\n",
       "      <td>0.007145</td>\n",
       "      <td>1236.0</td>\n",
       "      <td>0.194719</td>\n",
       "      <td>M</td>\n",
       "    </tr>\n",
       "    <tr>\n",
       "      <th>26</th>\n",
       "      <td>M011</td>\n",
       "      <td>AutoMOFs05</td>\n",
       "      <td>1</td>\n",
       "      <td>0.132734</td>\n",
       "      <td>0.007145</td>\n",
       "      <td>1193.0</td>\n",
       "      <td>0.178824</td>\n",
       "      <td>M</td>\n",
       "    </tr>\n",
       "    <tr>\n",
       "      <th>27</th>\n",
       "      <td>M012</td>\n",
       "      <td>AutoMOFs05</td>\n",
       "      <td>2</td>\n",
       "      <td>0.132734</td>\n",
       "      <td>0.007145</td>\n",
       "      <td>1212.0</td>\n",
       "      <td>0.210863</td>\n",
       "      <td>M</td>\n",
       "    </tr>\n",
       "    <tr>\n",
       "      <th>28</th>\n",
       "      <td>M013</td>\n",
       "      <td>AutoMOFs05</td>\n",
       "      <td>5</td>\n",
       "      <td>0.132734</td>\n",
       "      <td>0.007145</td>\n",
       "      <td>1208.0</td>\n",
       "      <td>0.202667</td>\n",
       "      <td>M</td>\n",
       "    </tr>\n",
       "    <tr>\n",
       "      <th>29</th>\n",
       "      <td>M014</td>\n",
       "      <td>AutoMOFs05</td>\n",
       "      <td>10</td>\n",
       "      <td>0.132734</td>\n",
       "      <td>0.007145</td>\n",
       "      <td>1208.0</td>\n",
       "      <td>0.203660</td>\n",
       "      <td>M</td>\n",
       "    </tr>\n",
       "    <tr>\n",
       "      <th>30</th>\n",
       "      <td>M015</td>\n",
       "      <td>AutoMOFs05</td>\n",
       "      <td>15</td>\n",
       "      <td>0.132734</td>\n",
       "      <td>0.007145</td>\n",
       "      <td>1225.0</td>\n",
       "      <td>0.209621</td>\n",
       "      <td>M</td>\n",
       "    </tr>\n",
       "    <tr>\n",
       "      <th>31</th>\n",
       "      <td>T000</td>\n",
       "      <td>AutoMOFs05</td>\n",
       "      <td>10</td>\n",
       "      <td>0.132734</td>\n",
       "      <td>0.007145</td>\n",
       "      <td>31482.0</td>\n",
       "      <td>0.315922</td>\n",
       "      <td>T</td>\n",
       "    </tr>\n",
       "    <tr>\n",
       "      <th>32</th>\n",
       "      <td>T001</td>\n",
       "      <td>AutoMOFs05</td>\n",
       "      <td>1</td>\n",
       "      <td>0.132734</td>\n",
       "      <td>0.007145</td>\n",
       "      <td>1219.0</td>\n",
       "      <td>0.183542</td>\n",
       "      <td>T</td>\n",
       "    </tr>\n",
       "    <tr>\n",
       "      <th>33</th>\n",
       "      <td>T002</td>\n",
       "      <td>AutoMOFs05</td>\n",
       "      <td>2</td>\n",
       "      <td>0.132734</td>\n",
       "      <td>0.007145</td>\n",
       "      <td>1209.0</td>\n",
       "      <td>0.217569</td>\n",
       "      <td>T</td>\n",
       "    </tr>\n",
       "    <tr>\n",
       "      <th>34</th>\n",
       "      <td>T003</td>\n",
       "      <td>AutoMOFs05</td>\n",
       "      <td>5</td>\n",
       "      <td>0.132734</td>\n",
       "      <td>0.007145</td>\n",
       "      <td>1204.0</td>\n",
       "      <td>0.219307</td>\n",
       "      <td>T</td>\n",
       "    </tr>\n",
       "    <tr>\n",
       "      <th>35</th>\n",
       "      <td>T004</td>\n",
       "      <td>AutoMOFs05</td>\n",
       "      <td>10</td>\n",
       "      <td>0.132734</td>\n",
       "      <td>0.007145</td>\n",
       "      <td>1308.0</td>\n",
       "      <td>0.235948</td>\n",
       "      <td>T</td>\n",
       "    </tr>\n",
       "    <tr>\n",
       "      <th>36</th>\n",
       "      <td>T005</td>\n",
       "      <td>AutoMOFs05</td>\n",
       "      <td>15</td>\n",
       "      <td>0.132734</td>\n",
       "      <td>0.007145</td>\n",
       "      <td>1294.0</td>\n",
       "      <td>0.252837</td>\n",
       "      <td>T</td>\n",
       "    </tr>\n",
       "    <tr>\n",
       "      <th>37</th>\n",
       "      <td>T006</td>\n",
       "      <td>AutoMOFs05</td>\n",
       "      <td>10</td>\n",
       "      <td>0.132734</td>\n",
       "      <td>0.007145</td>\n",
       "      <td>858.0</td>\n",
       "      <td>0.178327</td>\n",
       "      <td>T</td>\n",
       "    </tr>\n",
       "    <tr>\n",
       "      <th>38</th>\n",
       "      <td>T007</td>\n",
       "      <td>AutoMOFs05</td>\n",
       "      <td>10</td>\n",
       "      <td>0.132734</td>\n",
       "      <td>0.007145</td>\n",
       "      <td>718.0</td>\n",
       "      <td>0.180065</td>\n",
       "      <td>T</td>\n",
       "    </tr>\n",
       "    <tr>\n",
       "      <th>39</th>\n",
       "      <td>T008</td>\n",
       "      <td>AutoMOFs05</td>\n",
       "      <td>10</td>\n",
       "      <td>0.132734</td>\n",
       "      <td>0.007145</td>\n",
       "      <td>578.0</td>\n",
       "      <td>0.161935</td>\n",
       "      <td>T</td>\n",
       "    </tr>\n",
       "    <tr>\n",
       "      <th>40</th>\n",
       "      <td>T009</td>\n",
       "      <td>AutoMOFs05</td>\n",
       "      <td>10</td>\n",
       "      <td>0.132734</td>\n",
       "      <td>0.007145</td>\n",
       "      <td>440.0</td>\n",
       "      <td>0.150013</td>\n",
       "      <td>T</td>\n",
       "    </tr>\n",
       "    <tr>\n",
       "      <th>41</th>\n",
       "      <td>T010</td>\n",
       "      <td>AutoMOFs05</td>\n",
       "      <td>15</td>\n",
       "      <td>0.132734</td>\n",
       "      <td>0.007145</td>\n",
       "      <td>1128.0</td>\n",
       "      <td>0.202667</td>\n",
       "      <td>T</td>\n",
       "    </tr>\n",
       "    <tr>\n",
       "      <th>42</th>\n",
       "      <td>T011</td>\n",
       "      <td>AutoMOFs05</td>\n",
       "      <td>15</td>\n",
       "      <td>0.132734</td>\n",
       "      <td>0.007145</td>\n",
       "      <td>1013.0</td>\n",
       "      <td>0.203412</td>\n",
       "      <td>T</td>\n",
       "    </tr>\n",
       "    <tr>\n",
       "      <th>43</th>\n",
       "      <td>T012</td>\n",
       "      <td>AutoMOFs05</td>\n",
       "      <td>15</td>\n",
       "      <td>0.132734</td>\n",
       "      <td>0.007145</td>\n",
       "      <td>898.0</td>\n",
       "      <td>0.181307</td>\n",
       "      <td>T</td>\n",
       "    </tr>\n",
       "    <tr>\n",
       "      <th>44</th>\n",
       "      <td>T013</td>\n",
       "      <td>AutoMOFs05</td>\n",
       "      <td>15</td>\n",
       "      <td>0.132734</td>\n",
       "      <td>0.007145</td>\n",
       "      <td>783.0</td>\n",
       "      <td>0.191987</td>\n",
       "      <td>T</td>\n",
       "    </tr>\n",
       "    <tr>\n",
       "      <th>45</th>\n",
       "      <td>T014</td>\n",
       "      <td>AutoMOFs05</td>\n",
       "      <td>10</td>\n",
       "      <td>0.132734</td>\n",
       "      <td>0.007145</td>\n",
       "      <td>2264.0</td>\n",
       "      <td>0.257556</td>\n",
       "      <td>T</td>\n",
       "    </tr>\n",
       "    <tr>\n",
       "      <th>46</th>\n",
       "      <td>T015</td>\n",
       "      <td>AutoMOFs05</td>\n",
       "      <td>10</td>\n",
       "      <td>0.132734</td>\n",
       "      <td>0.007145</td>\n",
       "      <td>3458.0</td>\n",
       "      <td>0.290340</td>\n",
       "      <td>T</td>\n",
       "    </tr>\n",
       "    <tr>\n",
       "      <th>47</th>\n",
       "      <td>T016</td>\n",
       "      <td>AutoMOFs05</td>\n",
       "      <td>10</td>\n",
       "      <td>0.132734</td>\n",
       "      <td>0.007145</td>\n",
       "      <td>4763.0</td>\n",
       "      <td>0.302261</td>\n",
       "      <td>T</td>\n",
       "    </tr>\n",
       "    <tr>\n",
       "      <th>48</th>\n",
       "      <td>T017</td>\n",
       "      <td>AutoMOFs05</td>\n",
       "      <td>10</td>\n",
       "      <td>0.132734</td>\n",
       "      <td>0.007145</td>\n",
       "      <td>85855.0</td>\n",
       "      <td>0.348209</td>\n",
       "      <td>T</td>\n",
       "    </tr>\n",
       "    <tr>\n",
       "      <th>49</th>\n",
       "      <td>T018</td>\n",
       "      <td>AutoMOFs05</td>\n",
       "      <td>10</td>\n",
       "      <td>0.132734</td>\n",
       "      <td>0.007145</td>\n",
       "      <td>2418.0</td>\n",
       "      <td>0.270222</td>\n",
       "      <td>T</td>\n",
       "    </tr>\n",
       "    <tr>\n",
       "      <th>50</th>\n",
       "      <td>T019</td>\n",
       "      <td>AutoMOFs05</td>\n",
       "      <td>10</td>\n",
       "      <td>0.132734</td>\n",
       "      <td>0.007145</td>\n",
       "      <td>3673.0</td>\n",
       "      <td>0.293817</td>\n",
       "      <td>T</td>\n",
       "    </tr>\n",
       "    <tr>\n",
       "      <th>51</th>\n",
       "      <td>T020</td>\n",
       "      <td>AutoMOFs05</td>\n",
       "      <td>10</td>\n",
       "      <td>0.132734</td>\n",
       "      <td>0.007145</td>\n",
       "      <td>5138.0</td>\n",
       "      <td>0.311451</td>\n",
       "      <td>T</td>\n",
       "    </tr>\n",
       "    <tr>\n",
       "      <th>52</th>\n",
       "      <td>T021</td>\n",
       "      <td>AutoMOFs05</td>\n",
       "      <td>10</td>\n",
       "      <td>0.132734</td>\n",
       "      <td>0.007145</td>\n",
       "      <td>83232.0</td>\n",
       "      <td>0.393660</td>\n",
       "      <td>T</td>\n",
       "    </tr>\n",
       "  </tbody>\n",
       "</table>\n",
       "</div>"
      ],
      "text/plain": [
       "   SampleID ExperimentID  InjectionSpeed  MetalToLinkerRatio  \\\n",
       "0      H002   AutoMOFs05              15            0.132734   \n",
       "1      H003   AutoMOFs05              15            0.132734   \n",
       "2      H004   AutoMOFs05              15            0.132734   \n",
       "3      H005   AutoMOFs05              15            0.132734   \n",
       "4      H006   AutoMOFs05              15            0.132734   \n",
       "5      H007   AutoMOFs05              15            0.132734   \n",
       "6      H008   AutoMOFs05              15            0.132734   \n",
       "7      H009   AutoMOFs05              15            0.132734   \n",
       "8      H010   AutoMOFs05              15            0.132734   \n",
       "9      L001   AutoMOFs05               1            0.132734   \n",
       "10     L002   AutoMOFs05               2            0.132734   \n",
       "11     L003   AutoMOFs05               5            0.132734   \n",
       "12     L004   AutoMOFs05              10            0.132734   \n",
       "13     L005   AutoMOFs05              15            0.132734   \n",
       "14     L006   AutoMOFs05              10            0.132734   \n",
       "15     L007   AutoMOFs05              10            0.132734   \n",
       "16     M001   AutoMOFs05              15            0.132734   \n",
       "17     M002   AutoMOFs05              15            0.132734   \n",
       "18     M003   AutoMOFs05              15            0.132734   \n",
       "19     M004   AutoMOFs05              15            0.132734   \n",
       "20     M005   AutoMOFs05              15            0.132734   \n",
       "21     M006   AutoMOFs05              15            0.132734   \n",
       "22     M007   AutoMOFs05              15            0.132734   \n",
       "23     M008   AutoMOFs05              15            0.132734   \n",
       "24     M009   AutoMOFs05              15            0.132734   \n",
       "25     M010   AutoMOFs05              15            0.132734   \n",
       "26     M011   AutoMOFs05               1            0.132734   \n",
       "27     M012   AutoMOFs05               2            0.132734   \n",
       "28     M013   AutoMOFs05               5            0.132734   \n",
       "29     M014   AutoMOFs05              10            0.132734   \n",
       "30     M015   AutoMOFs05              15            0.132734   \n",
       "31     T000   AutoMOFs05              10            0.132734   \n",
       "32     T001   AutoMOFs05               1            0.132734   \n",
       "33     T002   AutoMOFs05               2            0.132734   \n",
       "34     T003   AutoMOFs05               5            0.132734   \n",
       "35     T004   AutoMOFs05              10            0.132734   \n",
       "36     T005   AutoMOFs05              15            0.132734   \n",
       "37     T006   AutoMOFs05              10            0.132734   \n",
       "38     T007   AutoMOFs05              10            0.132734   \n",
       "39     T008   AutoMOFs05              10            0.132734   \n",
       "40     T009   AutoMOFs05              10            0.132734   \n",
       "41     T010   AutoMOFs05              15            0.132734   \n",
       "42     T011   AutoMOFs05              15            0.132734   \n",
       "43     T012   AutoMOFs05              15            0.132734   \n",
       "44     T013   AutoMOFs05              15            0.132734   \n",
       "45     T014   AutoMOFs05              10            0.132734   \n",
       "46     T015   AutoMOFs05              10            0.132734   \n",
       "47     T016   AutoMOFs05              10            0.132734   \n",
       "48     T017   AutoMOFs05              10            0.132734   \n",
       "49     T018   AutoMOFs05              10            0.132734   \n",
       "50     T019   AutoMOFs05              10            0.132734   \n",
       "51     T020   AutoMOFs05              10            0.132734   \n",
       "52     T021   AutoMOFs05              10            0.132734   \n",
       "\n",
       "    MetalToMethanolRatio  ReactionTime  ChemicalYield ReactionType  \n",
       "0               0.007145        1231.0       0.266993            H  \n",
       "1               0.007145        1200.0       0.295804            H  \n",
       "2               0.007145        1231.0       0.292078            H  \n",
       "3               0.007145        1191.0       0.292327            H  \n",
       "4               0.007145        1286.0       0.290091            H  \n",
       "5               0.007145        1225.0       0.290340            H  \n",
       "6               0.007145        1260.0       0.283137            H  \n",
       "7               0.007145        1216.0       0.293072            H  \n",
       "8               0.007145        1236.0       0.284379            H  \n",
       "9               0.006667        1193.0       0.300275            L  \n",
       "10              0.006667        1212.0       0.328588            L  \n",
       "11              0.006667        1208.0       0.341007            L  \n",
       "12              0.006667        1208.0       0.361373            L  \n",
       "13              0.006667        1225.0       0.342248            L  \n",
       "14              0.006667        1219.0       0.338523            L  \n",
       "15              0.006667       26807.0       0.412784            L  \n",
       "16              0.007145        1233.0       0.185281            M  \n",
       "17              0.007145        1231.0       0.182301            M  \n",
       "18              0.007145        1200.0       0.188758            M  \n",
       "19              0.007145        1231.0       0.202418            M  \n",
       "20              0.007145        1191.0       0.196458            M  \n",
       "21              0.007145        1286.0       0.192732            M  \n",
       "22              0.007145        1225.0       0.199935            M  \n",
       "23              0.007145        1260.0       0.190000            M  \n",
       "24              0.007145        1216.0       0.199686            M  \n",
       "25              0.007145        1236.0       0.194719            M  \n",
       "26              0.007145        1193.0       0.178824            M  \n",
       "27              0.007145        1212.0       0.210863            M  \n",
       "28              0.007145        1208.0       0.202667            M  \n",
       "29              0.007145        1208.0       0.203660            M  \n",
       "30              0.007145        1225.0       0.209621            M  \n",
       "31              0.007145       31482.0       0.315922            T  \n",
       "32              0.007145        1219.0       0.183542            T  \n",
       "33              0.007145        1209.0       0.217569            T  \n",
       "34              0.007145        1204.0       0.219307            T  \n",
       "35              0.007145        1308.0       0.235948            T  \n",
       "36              0.007145        1294.0       0.252837            T  \n",
       "37              0.007145         858.0       0.178327            T  \n",
       "38              0.007145         718.0       0.180065            T  \n",
       "39              0.007145         578.0       0.161935            T  \n",
       "40              0.007145         440.0       0.150013            T  \n",
       "41              0.007145        1128.0       0.202667            T  \n",
       "42              0.007145        1013.0       0.203412            T  \n",
       "43              0.007145         898.0       0.181307            T  \n",
       "44              0.007145         783.0       0.191987            T  \n",
       "45              0.007145        2264.0       0.257556            T  \n",
       "46              0.007145        3458.0       0.290340            T  \n",
       "47              0.007145        4763.0       0.302261            T  \n",
       "48              0.007145       85855.0       0.348209            T  \n",
       "49              0.007145        2418.0       0.270222            T  \n",
       "50              0.007145        3673.0       0.293817            T  \n",
       "51              0.007145        5138.0       0.311451            T  \n",
       "52              0.007145       83232.0       0.393660            T  "
      ]
     },
     "execution_count": 3,
     "metadata": {},
     "output_type": "execute_result"
    }
   ],
   "source": [
    "iList = []\n",
    "for filename in Path('tests/testData/').glob('AutoMOFs05_[MTLH]???.h5'):\n",
    "    iList += [scatteringDataObjFromNX(filename, readConfigObj())]\n",
    "info = pd.concat(iList, axis=0, ignore_index=True)\n",
    "info['SampleID'] = info['SampleID'].str.strip()\n",
    "info['ReactionType'] = info['SampleID'].str[:1]\n",
    "info"
   ]
  },
  {
   "cell_type": "code",
   "execution_count": null,
   "metadata": {},
   "outputs": [],
   "source": []
  },
  {
   "attachments": {},
   "cell_type": "markdown",
   "metadata": {},
   "source": []
  },
  {
   "cell_type": "code",
   "execution_count": 4,
   "metadata": {},
   "outputs": [
    {
     "data": {
      "application/vnd.plotly.v1+json": {
       "config": {
        "plotlyServerURL": "https://plot.ly"
       },
       "data": [
        {
         "customdata": [
          [
           "H002",
           "AutoMOFs05",
           15,
           0.13273373327872093,
           0.007144672740322808,
           "H"
          ],
          [
           "H003",
           "AutoMOFs05",
           15,
           0.13273373327872093,
           0.007144672740322808,
           "H"
          ],
          [
           "H004",
           "AutoMOFs05",
           15,
           0.13273373327872093,
           0.007144672740322808,
           "H"
          ],
          [
           "H005",
           "AutoMOFs05",
           15,
           0.13273373327872093,
           0.007144672740322808,
           "H"
          ],
          [
           "H006",
           "AutoMOFs05",
           15,
           0.13273373327872093,
           0.007144672740322808,
           "H"
          ],
          [
           "H007",
           "AutoMOFs05",
           15,
           0.13273373327872093,
           0.007144672740322808,
           "H"
          ],
          [
           "H008",
           "AutoMOFs05",
           15,
           0.13273373327872093,
           0.007144672740322808,
           "H"
          ],
          [
           "H009",
           "AutoMOFs05",
           15,
           0.13273373327872093,
           0.007144672740322808,
           "H"
          ],
          [
           "H010",
           "AutoMOFs05",
           15,
           0.13273373327872093,
           0.007144672740322808,
           "H"
          ]
         ],
         "hovertemplate": "ReactionType=%{customdata[5]}<br>ReactionTime=%{x}<br>ChemicalYield=%{y}<br>MetalToLinkerRatio=%{customdata[3]}<br>SampleID=%{customdata[0]}<br>ExperimentID=%{customdata[1]}<br>InjectionSpeed=%{customdata[2]}<br>MetalToMethanolRatio=%{customdata[4]}<extra></extra>",
         "legendgroup": "H",
         "marker": {
          "color": "#636efa",
          "size": [
           0.13273373327872093,
           0.13273373327872093,
           0.13273373327872093,
           0.13273373327872093,
           0.13273373327872093,
           0.13273373327872093,
           0.13273373327872093,
           0.13273373327872093,
           0.13273373327872093
          ],
          "sizemode": "area",
          "sizeref": 0.0003318343331968023,
          "symbol": "circle"
         },
         "mode": "markers",
         "name": "H",
         "orientation": "v",
         "showlegend": true,
         "type": "scatter",
         "x": [
          1231,
          1200,
          1231,
          1191,
          1286,
          1225,
          1260,
          1216,
          1236
         ],
         "xaxis": "x",
         "y": [
          0.2669934555729212,
          0.29580391217428176,
          0.2920784220965155,
          0.29232678810169904,
          0.29009149405504286,
          0.2903398600602264,
          0.28313724590988626,
          0.29307188611724966,
          0.2843790759358083
         ],
         "yaxis": "y"
        },
        {
         "customdata": [
          [
           "L001",
           "AutoMOFs05",
           1,
           0.13273373327872093,
           0.00666730645469913,
           "L"
          ],
          [
           "L002",
           "AutoMOFs05",
           2,
           0.13273373327872093,
           0.00666730645469913,
           "L"
          ],
          [
           "L003",
           "AutoMOFs05",
           5,
           0.13273373327872093,
           0.00666730645469913,
           "L"
          ],
          [
           "L004",
           "AutoMOFs05",
           10,
           0.13273373327872093,
           0.00666730645469913,
           "L"
          ],
          [
           "L005",
           "AutoMOFs05",
           15,
           0.13273373327872093,
           0.00666730645469913,
           "L"
          ],
          [
           "L006",
           "AutoMOFs05",
           10,
           0.13273373327872093,
           0.00666730645469913,
           "L"
          ],
          [
           "L007",
           "AutoMOFs05",
           10,
           0.13273373327872093,
           0.00666730645469913,
           "L"
          ]
         ],
         "hovertemplate": "ReactionType=%{customdata[5]}<br>ReactionTime=%{x}<br>ChemicalYield=%{y}<br>MetalToLinkerRatio=%{customdata[3]}<br>SampleID=%{customdata[0]}<br>ExperimentID=%{customdata[1]}<br>InjectionSpeed=%{customdata[2]}<br>MetalToMethanolRatio=%{customdata[4]}<extra></extra>",
         "legendgroup": "L",
         "marker": {
          "color": "#EF553B",
          "size": [
           0.13273373327872093,
           0.13273373327872093,
           0.13273373327872093,
           0.13273373327872093,
           0.13273373327872093,
           0.13273373327872093,
           0.13273373327872093
          ],
          "sizemode": "area",
          "sizeref": 0.0003318343331968023,
          "symbol": "circle"
         },
         "mode": "markers",
         "name": "L",
         "orientation": "v",
         "showlegend": true,
         "type": "scatter",
         "x": [
          1193,
          1212,
          1208,
          1208,
          1225,
          1219,
          26807
         ],
         "xaxis": "x",
         "y": [
          0.3002745002675942,
          0.32858822485858324,
          0.34100652511778645,
          0.3613725375428848,
          0.34224835514370855,
          0.3385228650659467,
          0.41278430061599547
         ],
         "yaxis": "y"
        },
        {
         "customdata": [
          [
           "M001",
           "AutoMOFs05",
           15,
           0.13273373327872093,
           0.007144672740322808,
           "M"
          ],
          [
           "M002",
           "AutoMOFs05",
           15,
           0.13273373327872093,
           0.007144672740322808,
           "M"
          ],
          [
           "M003",
           "AutoMOFs05",
           15,
           0.13273373327872093,
           0.007144672740322808,
           "M"
          ],
          [
           "M004",
           "AutoMOFs05",
           15,
           0.13273373327872093,
           0.007144672740322808,
           "M"
          ],
          [
           "M005",
           "AutoMOFs05",
           15,
           0.13273373327872093,
           0.007144672740322808,
           "M"
          ],
          [
           "M006",
           "AutoMOFs05",
           15,
           0.13273373327872093,
           0.007144672740322808,
           "M"
          ],
          [
           "M007",
           "AutoMOFs05",
           15,
           0.13273373327872093,
           0.007144672740322808,
           "M"
          ],
          [
           "M008",
           "AutoMOFs05",
           15,
           0.13273373327872093,
           0.007144672740322808,
           "M"
          ],
          [
           "M009",
           "AutoMOFs05",
           15,
           0.13273373327872093,
           0.007144672740322808,
           "M"
          ],
          [
           "M010",
           "AutoMOFs05",
           15,
           0.13273373327872093,
           0.007144672740322808,
           "M"
          ],
          [
           "M011",
           "AutoMOFs05",
           1,
           0.13273373327872093,
           0.007144672740322808,
           "M"
          ],
          [
           "M012",
           "AutoMOFs05",
           2,
           0.13273373327872093,
           0.007144672740322808,
           "M"
          ],
          [
           "M013",
           "AutoMOFs05",
           5,
           0.13273373327872093,
           0.007144672740322808,
           "M"
          ],
          [
           "M014",
           "AutoMOFs05",
           10,
           0.13273373327872093,
           0.007144672740322808,
           "M"
          ],
          [
           "M015",
           "AutoMOFs05",
           15,
           0.13273373327872093,
           0.007144672740322808,
           "M"
          ]
         ],
         "hovertemplate": "ReactionType=%{customdata[5]}<br>ReactionTime=%{x}<br>ChemicalYield=%{y}<br>MetalToLinkerRatio=%{customdata[3]}<br>SampleID=%{customdata[0]}<br>ExperimentID=%{customdata[1]}<br>InjectionSpeed=%{customdata[2]}<br>MetalToMethanolRatio=%{customdata[4]}<extra></extra>",
         "legendgroup": "M",
         "marker": {
          "color": "#00cc96",
          "size": [
           0.13273373327872093,
           0.13273373327872093,
           0.13273373327872093,
           0.13273373327872093,
           0.13273373327872093,
           0.13273373327872093,
           0.13273373327872093,
           0.13273373327872093,
           0.13273373327872093,
           0.13273373327872093,
           0.13273373327872093,
           0.13273373327872093,
           0.13273373327872093,
           0.13273373327872093,
           0.13273373327872093
          ],
          "sizemode": "area",
          "sizeref": 0.0003318343331968023,
          "symbol": "circle"
         },
         "mode": "markers",
         "name": "M",
         "orientation": "v",
         "showlegend": true,
         "type": "scatter",
         "x": [
          1233,
          1231,
          1200,
          1231,
          1191,
          1286,
          1225,
          1260,
          1216,
          1236,
          1193,
          1212,
          1208,
          1208,
          1225
         ],
         "xaxis": "x",
         "y": [
          0.18528103986734437,
          0.18230064780513755,
          0.1887581639399271,
          0.20241829422505236,
          0.1964575101006299,
          0.19273202002287246,
          0.1999346341732126,
          0.18999999396584918,
          0.19968626816802465,
          0.19471894806434514,
          0.17882352373255928,
          0.2108627384013146,
          0.20266666023023588,
          0.20366012425097002,
          0.2096209083753925
         ],
         "yaxis": "y"
        },
        {
         "customdata": [
          [
           "T000",
           "AutoMOFs05",
           10,
           0.13273373327872093,
           0.007144672740322808,
           "T"
          ],
          [
           "T001",
           "AutoMOFs05",
           1,
           0.13273373327872093,
           0.007144672740322808,
           "T"
          ],
          [
           "T002",
           "AutoMOFs05",
           2,
           0.13273373327872093,
           0.007144672740322808,
           "T"
          ],
          [
           "T003",
           "AutoMOFs05",
           5,
           0.13273373327872093,
           0.007144672740322808,
           "T"
          ],
          [
           "T004",
           "AutoMOFs05",
           10,
           0.13273373327872093,
           0.007144672740322808,
           "T"
          ],
          [
           "T005",
           "AutoMOFs05",
           15,
           0.13273373327872093,
           0.007144672740322808,
           "T"
          ],
          [
           "T006",
           "AutoMOFs05",
           10,
           0.13273373327872093,
           0.007144672740322808,
           "T"
          ],
          [
           "T007",
           "AutoMOFs05",
           10,
           0.13273373327872093,
           0.007144672740322808,
           "T"
          ],
          [
           "T008",
           "AutoMOFs05",
           10,
           0.13273373327872093,
           0.007144672740322808,
           "T"
          ],
          [
           "T009",
           "AutoMOFs05",
           10,
           0.13273373327872093,
           0.007144672740322808,
           "T"
          ],
          [
           "T010",
           "AutoMOFs05",
           15,
           0.13273373327872093,
           0.007144672740322808,
           "T"
          ],
          [
           "T011",
           "AutoMOFs05",
           15,
           0.13273373327872093,
           0.007144672740322808,
           "T"
          ],
          [
           "T012",
           "AutoMOFs05",
           15,
           0.13273373327872093,
           0.007144672740322808,
           "T"
          ],
          [
           "T013",
           "AutoMOFs05",
           15,
           0.13273373327872093,
           0.007144672740322808,
           "T"
          ],
          [
           "T014",
           "AutoMOFs05",
           10,
           0.13273373327872093,
           0.007144672740322808,
           "T"
          ],
          [
           "T015",
           "AutoMOFs05",
           10,
           0.13273373327872093,
           0.007144672740322808,
           "T"
          ],
          [
           "T016",
           "AutoMOFs05",
           10,
           0.13273373327872093,
           0.007144672740322808,
           "T"
          ],
          [
           "T017",
           "AutoMOFs05",
           10,
           0.13273373327872093,
           0.007144672740322808,
           "T"
          ],
          [
           "T018",
           "AutoMOFs05",
           10,
           0.13273373327872093,
           0.007144672740322808,
           "T"
          ],
          [
           "T019",
           "AutoMOFs05",
           10,
           0.13273373327872093,
           0.007144672740322808,
           "T"
          ],
          [
           "T020",
           "AutoMOFs05",
           10,
           0.13273373327872093,
           0.007144672740322808,
           "T"
          ],
          [
           "T021",
           "AutoMOFs05",
           10,
           0.13273373327872093,
           0.007144672740322808,
           "T"
          ]
         ],
         "hovertemplate": "ReactionType=%{customdata[5]}<br>ReactionTime=%{x}<br>ChemicalYield=%{y}<br>MetalToLinkerRatio=%{customdata[3]}<br>SampleID=%{customdata[0]}<br>ExperimentID=%{customdata[1]}<br>InjectionSpeed=%{customdata[2]}<br>MetalToMethanolRatio=%{customdata[4]}<extra></extra>",
         "legendgroup": "T",
         "marker": {
          "color": "#ab63fa",
          "size": [
           0.13273373327872093,
           0.13273373327872093,
           0.13273373327872093,
           0.13273373327872093,
           0.13273373327872093,
           0.13273373327872093,
           0.13273373327872093,
           0.13273373327872093,
           0.13273373327872093,
           0.13273373327872093,
           0.13273373327872093,
           0.13273373327872093,
           0.13273373327872093,
           0.13273373327872093,
           0.13273373327872093,
           0.13273373327872093,
           0.13273373327872093,
           0.13273373327872093,
           0.13273373327872093,
           0.13273373327872093,
           0.13273373327872093,
           0.13273373327872093
          ],
          "sizemode": "area",
          "sizeref": 0.0003318343331968023,
          "symbol": "circle"
         },
         "mode": "markers",
         "name": "T",
         "orientation": "v",
         "showlegend": true,
         "type": "scatter",
         "x": [
          31482,
          1219,
          1209,
          1204,
          1308,
          1294,
          858,
          718,
          578,
          440,
          1128,
          1013,
          898,
          783,
          2264,
          3458,
          4763,
          85855,
          2418,
          3673,
          5138,
          83232
         ],
         "xaxis": "x",
         "y": [
          0.31592155859418775,
          0.18354247783105965,
          0.21756862054128323,
          0.21930718257757237,
          0.23594770492490447,
          0.2528365932774289,
          0.17832679172219662,
          0.18006535375848134,
          0.16193463538003924,
          0.15001306713120754,
          0.20266666023023588,
          0.2034117582457909,
          0.18130718378440341,
          0.19198692200731746,
          0.25755554737592484,
          0.2903398600602264,
          0.3022614283090625,
          0.3482091392681266,
          0.270222213640316,
          0.2938169841328091,
          0.3114509705008753,
          0.39366011821681923
         ],
         "yaxis": "y"
        }
       ],
       "layout": {
        "legend": {
         "itemsizing": "constant",
         "title": {
          "text": "ReactionType"
         },
         "tracegroupgap": 0
        },
        "margin": {
         "t": 60
        },
        "template": {
         "data": {
          "bar": [
           {
            "error_x": {
             "color": "#2a3f5f"
            },
            "error_y": {
             "color": "#2a3f5f"
            },
            "marker": {
             "line": {
              "color": "#E5ECF6",
              "width": 0.5
             },
             "pattern": {
              "fillmode": "overlay",
              "size": 10,
              "solidity": 0.2
             }
            },
            "type": "bar"
           }
          ],
          "barpolar": [
           {
            "marker": {
             "line": {
              "color": "#E5ECF6",
              "width": 0.5
             },
             "pattern": {
              "fillmode": "overlay",
              "size": 10,
              "solidity": 0.2
             }
            },
            "type": "barpolar"
           }
          ],
          "carpet": [
           {
            "aaxis": {
             "endlinecolor": "#2a3f5f",
             "gridcolor": "white",
             "linecolor": "white",
             "minorgridcolor": "white",
             "startlinecolor": "#2a3f5f"
            },
            "baxis": {
             "endlinecolor": "#2a3f5f",
             "gridcolor": "white",
             "linecolor": "white",
             "minorgridcolor": "white",
             "startlinecolor": "#2a3f5f"
            },
            "type": "carpet"
           }
          ],
          "choropleth": [
           {
            "colorbar": {
             "outlinewidth": 0,
             "ticks": ""
            },
            "type": "choropleth"
           }
          ],
          "contour": [
           {
            "colorbar": {
             "outlinewidth": 0,
             "ticks": ""
            },
            "colorscale": [
             [
              0,
              "#0d0887"
             ],
             [
              0.1111111111111111,
              "#46039f"
             ],
             [
              0.2222222222222222,
              "#7201a8"
             ],
             [
              0.3333333333333333,
              "#9c179e"
             ],
             [
              0.4444444444444444,
              "#bd3786"
             ],
             [
              0.5555555555555556,
              "#d8576b"
             ],
             [
              0.6666666666666666,
              "#ed7953"
             ],
             [
              0.7777777777777778,
              "#fb9f3a"
             ],
             [
              0.8888888888888888,
              "#fdca26"
             ],
             [
              1,
              "#f0f921"
             ]
            ],
            "type": "contour"
           }
          ],
          "contourcarpet": [
           {
            "colorbar": {
             "outlinewidth": 0,
             "ticks": ""
            },
            "type": "contourcarpet"
           }
          ],
          "heatmap": [
           {
            "colorbar": {
             "outlinewidth": 0,
             "ticks": ""
            },
            "colorscale": [
             [
              0,
              "#0d0887"
             ],
             [
              0.1111111111111111,
              "#46039f"
             ],
             [
              0.2222222222222222,
              "#7201a8"
             ],
             [
              0.3333333333333333,
              "#9c179e"
             ],
             [
              0.4444444444444444,
              "#bd3786"
             ],
             [
              0.5555555555555556,
              "#d8576b"
             ],
             [
              0.6666666666666666,
              "#ed7953"
             ],
             [
              0.7777777777777778,
              "#fb9f3a"
             ],
             [
              0.8888888888888888,
              "#fdca26"
             ],
             [
              1,
              "#f0f921"
             ]
            ],
            "type": "heatmap"
           }
          ],
          "heatmapgl": [
           {
            "colorbar": {
             "outlinewidth": 0,
             "ticks": ""
            },
            "colorscale": [
             [
              0,
              "#0d0887"
             ],
             [
              0.1111111111111111,
              "#46039f"
             ],
             [
              0.2222222222222222,
              "#7201a8"
             ],
             [
              0.3333333333333333,
              "#9c179e"
             ],
             [
              0.4444444444444444,
              "#bd3786"
             ],
             [
              0.5555555555555556,
              "#d8576b"
             ],
             [
              0.6666666666666666,
              "#ed7953"
             ],
             [
              0.7777777777777778,
              "#fb9f3a"
             ],
             [
              0.8888888888888888,
              "#fdca26"
             ],
             [
              1,
              "#f0f921"
             ]
            ],
            "type": "heatmapgl"
           }
          ],
          "histogram": [
           {
            "marker": {
             "pattern": {
              "fillmode": "overlay",
              "size": 10,
              "solidity": 0.2
             }
            },
            "type": "histogram"
           }
          ],
          "histogram2d": [
           {
            "colorbar": {
             "outlinewidth": 0,
             "ticks": ""
            },
            "colorscale": [
             [
              0,
              "#0d0887"
             ],
             [
              0.1111111111111111,
              "#46039f"
             ],
             [
              0.2222222222222222,
              "#7201a8"
             ],
             [
              0.3333333333333333,
              "#9c179e"
             ],
             [
              0.4444444444444444,
              "#bd3786"
             ],
             [
              0.5555555555555556,
              "#d8576b"
             ],
             [
              0.6666666666666666,
              "#ed7953"
             ],
             [
              0.7777777777777778,
              "#fb9f3a"
             ],
             [
              0.8888888888888888,
              "#fdca26"
             ],
             [
              1,
              "#f0f921"
             ]
            ],
            "type": "histogram2d"
           }
          ],
          "histogram2dcontour": [
           {
            "colorbar": {
             "outlinewidth": 0,
             "ticks": ""
            },
            "colorscale": [
             [
              0,
              "#0d0887"
             ],
             [
              0.1111111111111111,
              "#46039f"
             ],
             [
              0.2222222222222222,
              "#7201a8"
             ],
             [
              0.3333333333333333,
              "#9c179e"
             ],
             [
              0.4444444444444444,
              "#bd3786"
             ],
             [
              0.5555555555555556,
              "#d8576b"
             ],
             [
              0.6666666666666666,
              "#ed7953"
             ],
             [
              0.7777777777777778,
              "#fb9f3a"
             ],
             [
              0.8888888888888888,
              "#fdca26"
             ],
             [
              1,
              "#f0f921"
             ]
            ],
            "type": "histogram2dcontour"
           }
          ],
          "mesh3d": [
           {
            "colorbar": {
             "outlinewidth": 0,
             "ticks": ""
            },
            "type": "mesh3d"
           }
          ],
          "parcoords": [
           {
            "line": {
             "colorbar": {
              "outlinewidth": 0,
              "ticks": ""
             }
            },
            "type": "parcoords"
           }
          ],
          "pie": [
           {
            "automargin": true,
            "type": "pie"
           }
          ],
          "scatter": [
           {
            "fillpattern": {
             "fillmode": "overlay",
             "size": 10,
             "solidity": 0.2
            },
            "type": "scatter"
           }
          ],
          "scatter3d": [
           {
            "line": {
             "colorbar": {
              "outlinewidth": 0,
              "ticks": ""
             }
            },
            "marker": {
             "colorbar": {
              "outlinewidth": 0,
              "ticks": ""
             }
            },
            "type": "scatter3d"
           }
          ],
          "scattercarpet": [
           {
            "marker": {
             "colorbar": {
              "outlinewidth": 0,
              "ticks": ""
             }
            },
            "type": "scattercarpet"
           }
          ],
          "scattergeo": [
           {
            "marker": {
             "colorbar": {
              "outlinewidth": 0,
              "ticks": ""
             }
            },
            "type": "scattergeo"
           }
          ],
          "scattergl": [
           {
            "marker": {
             "colorbar": {
              "outlinewidth": 0,
              "ticks": ""
             }
            },
            "type": "scattergl"
           }
          ],
          "scattermapbox": [
           {
            "marker": {
             "colorbar": {
              "outlinewidth": 0,
              "ticks": ""
             }
            },
            "type": "scattermapbox"
           }
          ],
          "scatterpolar": [
           {
            "marker": {
             "colorbar": {
              "outlinewidth": 0,
              "ticks": ""
             }
            },
            "type": "scatterpolar"
           }
          ],
          "scatterpolargl": [
           {
            "marker": {
             "colorbar": {
              "outlinewidth": 0,
              "ticks": ""
             }
            },
            "type": "scatterpolargl"
           }
          ],
          "scatterternary": [
           {
            "marker": {
             "colorbar": {
              "outlinewidth": 0,
              "ticks": ""
             }
            },
            "type": "scatterternary"
           }
          ],
          "surface": [
           {
            "colorbar": {
             "outlinewidth": 0,
             "ticks": ""
            },
            "colorscale": [
             [
              0,
              "#0d0887"
             ],
             [
              0.1111111111111111,
              "#46039f"
             ],
             [
              0.2222222222222222,
              "#7201a8"
             ],
             [
              0.3333333333333333,
              "#9c179e"
             ],
             [
              0.4444444444444444,
              "#bd3786"
             ],
             [
              0.5555555555555556,
              "#d8576b"
             ],
             [
              0.6666666666666666,
              "#ed7953"
             ],
             [
              0.7777777777777778,
              "#fb9f3a"
             ],
             [
              0.8888888888888888,
              "#fdca26"
             ],
             [
              1,
              "#f0f921"
             ]
            ],
            "type": "surface"
           }
          ],
          "table": [
           {
            "cells": {
             "fill": {
              "color": "#EBF0F8"
             },
             "line": {
              "color": "white"
             }
            },
            "header": {
             "fill": {
              "color": "#C8D4E3"
             },
             "line": {
              "color": "white"
             }
            },
            "type": "table"
           }
          ]
         },
         "layout": {
          "annotationdefaults": {
           "arrowcolor": "#2a3f5f",
           "arrowhead": 0,
           "arrowwidth": 1
          },
          "autotypenumbers": "strict",
          "coloraxis": {
           "colorbar": {
            "outlinewidth": 0,
            "ticks": ""
           }
          },
          "colorscale": {
           "diverging": [
            [
             0,
             "#8e0152"
            ],
            [
             0.1,
             "#c51b7d"
            ],
            [
             0.2,
             "#de77ae"
            ],
            [
             0.3,
             "#f1b6da"
            ],
            [
             0.4,
             "#fde0ef"
            ],
            [
             0.5,
             "#f7f7f7"
            ],
            [
             0.6,
             "#e6f5d0"
            ],
            [
             0.7,
             "#b8e186"
            ],
            [
             0.8,
             "#7fbc41"
            ],
            [
             0.9,
             "#4d9221"
            ],
            [
             1,
             "#276419"
            ]
           ],
           "sequential": [
            [
             0,
             "#0d0887"
            ],
            [
             0.1111111111111111,
             "#46039f"
            ],
            [
             0.2222222222222222,
             "#7201a8"
            ],
            [
             0.3333333333333333,
             "#9c179e"
            ],
            [
             0.4444444444444444,
             "#bd3786"
            ],
            [
             0.5555555555555556,
             "#d8576b"
            ],
            [
             0.6666666666666666,
             "#ed7953"
            ],
            [
             0.7777777777777778,
             "#fb9f3a"
            ],
            [
             0.8888888888888888,
             "#fdca26"
            ],
            [
             1,
             "#f0f921"
            ]
           ],
           "sequentialminus": [
            [
             0,
             "#0d0887"
            ],
            [
             0.1111111111111111,
             "#46039f"
            ],
            [
             0.2222222222222222,
             "#7201a8"
            ],
            [
             0.3333333333333333,
             "#9c179e"
            ],
            [
             0.4444444444444444,
             "#bd3786"
            ],
            [
             0.5555555555555556,
             "#d8576b"
            ],
            [
             0.6666666666666666,
             "#ed7953"
            ],
            [
             0.7777777777777778,
             "#fb9f3a"
            ],
            [
             0.8888888888888888,
             "#fdca26"
            ],
            [
             1,
             "#f0f921"
            ]
           ]
          },
          "colorway": [
           "#636efa",
           "#EF553B",
           "#00cc96",
           "#ab63fa",
           "#FFA15A",
           "#19d3f3",
           "#FF6692",
           "#B6E880",
           "#FF97FF",
           "#FECB52"
          ],
          "font": {
           "color": "#2a3f5f"
          },
          "geo": {
           "bgcolor": "white",
           "lakecolor": "white",
           "landcolor": "#E5ECF6",
           "showlakes": true,
           "showland": true,
           "subunitcolor": "white"
          },
          "hoverlabel": {
           "align": "left"
          },
          "hovermode": "closest",
          "mapbox": {
           "style": "light"
          },
          "paper_bgcolor": "white",
          "plot_bgcolor": "#E5ECF6",
          "polar": {
           "angularaxis": {
            "gridcolor": "white",
            "linecolor": "white",
            "ticks": ""
           },
           "bgcolor": "#E5ECF6",
           "radialaxis": {
            "gridcolor": "white",
            "linecolor": "white",
            "ticks": ""
           }
          },
          "scene": {
           "xaxis": {
            "backgroundcolor": "#E5ECF6",
            "gridcolor": "white",
            "gridwidth": 2,
            "linecolor": "white",
            "showbackground": true,
            "ticks": "",
            "zerolinecolor": "white"
           },
           "yaxis": {
            "backgroundcolor": "#E5ECF6",
            "gridcolor": "white",
            "gridwidth": 2,
            "linecolor": "white",
            "showbackground": true,
            "ticks": "",
            "zerolinecolor": "white"
           },
           "zaxis": {
            "backgroundcolor": "#E5ECF6",
            "gridcolor": "white",
            "gridwidth": 2,
            "linecolor": "white",
            "showbackground": true,
            "ticks": "",
            "zerolinecolor": "white"
           }
          },
          "shapedefaults": {
           "line": {
            "color": "#2a3f5f"
           }
          },
          "ternary": {
           "aaxis": {
            "gridcolor": "white",
            "linecolor": "white",
            "ticks": ""
           },
           "baxis": {
            "gridcolor": "white",
            "linecolor": "white",
            "ticks": ""
           },
           "bgcolor": "#E5ECF6",
           "caxis": {
            "gridcolor": "white",
            "linecolor": "white",
            "ticks": ""
           }
          },
          "title": {
           "x": 0.05
          },
          "xaxis": {
           "automargin": true,
           "gridcolor": "white",
           "linecolor": "white",
           "ticks": "",
           "title": {
            "standoff": 15
           },
           "zerolinecolor": "white",
           "zerolinewidth": 2
          },
          "yaxis": {
           "automargin": true,
           "gridcolor": "white",
           "linecolor": "white",
           "ticks": "",
           "title": {
            "standoff": 15
           },
           "zerolinecolor": "white",
           "zerolinewidth": 2
          }
         }
        },
        "xaxis": {
         "anchor": "y",
         "domain": [
          0,
          1
         ],
         "title": {
          "text": "ReactionTime"
         },
         "type": "log"
        },
        "yaxis": {
         "anchor": "x",
         "domain": [
          0,
          1
         ],
         "title": {
          "text": "ChemicalYield"
         }
        }
       }
      }
     },
     "metadata": {},
     "output_type": "display_data"
    }
   ],
   "source": [
    "fig=px.scatter(data_frame=info, x='ReactionTime', y='ChemicalYield', color='ReactionType', size='MetalToLinkerRatio', hover_data=info.keys(), log_x=True)\n",
    "fig.show()"
   ]
  },
  {
   "cell_type": "code",
   "execution_count": 5,
   "metadata": {},
   "outputs": [
    {
     "data": {
      "text/html": [
       "<div>\n",
       "<style scoped>\n",
       "    .dataframe tbody tr th:only-of-type {\n",
       "        vertical-align: middle;\n",
       "    }\n",
       "\n",
       "    .dataframe tbody tr th {\n",
       "        vertical-align: top;\n",
       "    }\n",
       "\n",
       "    .dataframe thead th {\n",
       "        text-align: right;\n",
       "    }\n",
       "</style>\n",
       "<table border=\"1\" class=\"dataframe\">\n",
       "  <thead>\n",
       "    <tr style=\"text-align: right;\">\n",
       "      <th></th>\n",
       "      <th>Country Name</th>\n",
       "      <th>Indicator Name</th>\n",
       "      <th>Year</th>\n",
       "      <th>Value</th>\n",
       "    </tr>\n",
       "  </thead>\n",
       "  <tbody>\n",
       "    <tr>\n",
       "      <th>0</th>\n",
       "      <td>Arab World</td>\n",
       "      <td>Agriculture, value added (% of GDP)</td>\n",
       "      <td>1962</td>\n",
       "      <td>NaN</td>\n",
       "    </tr>\n",
       "    <tr>\n",
       "      <th>1</th>\n",
       "      <td>Arab World</td>\n",
       "      <td>CO2 emissions (metric tons per capita)</td>\n",
       "      <td>1962</td>\n",
       "      <td>0.760996</td>\n",
       "    </tr>\n",
       "    <tr>\n",
       "      <th>2</th>\n",
       "      <td>Arab World</td>\n",
       "      <td>Domestic credit provided by financial sector (...</td>\n",
       "      <td>1962</td>\n",
       "      <td>18.168690</td>\n",
       "    </tr>\n",
       "    <tr>\n",
       "      <th>3</th>\n",
       "      <td>Arab World</td>\n",
       "      <td>Electric power consumption (kWh per capita)</td>\n",
       "      <td>1962</td>\n",
       "      <td>NaN</td>\n",
       "    </tr>\n",
       "    <tr>\n",
       "      <th>4</th>\n",
       "      <td>Arab World</td>\n",
       "      <td>Energy use (kg of oil equivalent per capita)</td>\n",
       "      <td>1962</td>\n",
       "      <td>NaN</td>\n",
       "    </tr>\n",
       "    <tr>\n",
       "      <th>...</th>\n",
       "      <td>...</td>\n",
       "      <td>...</td>\n",
       "      <td>...</td>\n",
       "      <td>...</td>\n",
       "    </tr>\n",
       "    <tr>\n",
       "      <th>36955</th>\n",
       "      <td>Zimbabwe</td>\n",
       "      <td>Industry, value added (% of GDP)</td>\n",
       "      <td>2007</td>\n",
       "      <td>33.074953</td>\n",
       "    </tr>\n",
       "    <tr>\n",
       "      <th>36956</th>\n",
       "      <td>Zimbabwe</td>\n",
       "      <td>Inflation, GDP deflator (annual %)</td>\n",
       "      <td>2007</td>\n",
       "      <td>0.894887</td>\n",
       "    </tr>\n",
       "    <tr>\n",
       "      <th>36957</th>\n",
       "      <td>Zimbabwe</td>\n",
       "      <td>Life expectancy at birth, total (years)</td>\n",
       "      <td>2007</td>\n",
       "      <td>44.177756</td>\n",
       "    </tr>\n",
       "    <tr>\n",
       "      <th>36958</th>\n",
       "      <td>Zimbabwe</td>\n",
       "      <td>Population density (people per sq. km of land ...</td>\n",
       "      <td>2007</td>\n",
       "      <td>34.374559</td>\n",
       "    </tr>\n",
       "    <tr>\n",
       "      <th>36959</th>\n",
       "      <td>Zimbabwe</td>\n",
       "      <td>Services, etc., value added (% of GDP)</td>\n",
       "      <td>2007</td>\n",
       "      <td>45.327139</td>\n",
       "    </tr>\n",
       "  </tbody>\n",
       "</table>\n",
       "<p>36960 rows × 4 columns</p>\n",
       "</div>"
      ],
      "text/plain": [
       "      Country Name                                     Indicator Name  Year  \\\n",
       "0       Arab World                Agriculture, value added (% of GDP)  1962   \n",
       "1       Arab World             CO2 emissions (metric tons per capita)  1962   \n",
       "2       Arab World  Domestic credit provided by financial sector (...  1962   \n",
       "3       Arab World        Electric power consumption (kWh per capita)  1962   \n",
       "4       Arab World       Energy use (kg of oil equivalent per capita)  1962   \n",
       "...            ...                                                ...   ...   \n",
       "36955     Zimbabwe                   Industry, value added (% of GDP)  2007   \n",
       "36956     Zimbabwe                 Inflation, GDP deflator (annual %)  2007   \n",
       "36957     Zimbabwe            Life expectancy at birth, total (years)  2007   \n",
       "36958     Zimbabwe  Population density (people per sq. km of land ...  2007   \n",
       "36959     Zimbabwe             Services, etc., value added (% of GDP)  2007   \n",
       "\n",
       "           Value  \n",
       "0            NaN  \n",
       "1       0.760996  \n",
       "2      18.168690  \n",
       "3            NaN  \n",
       "4            NaN  \n",
       "...          ...  \n",
       "36955  33.074953  \n",
       "36956   0.894887  \n",
       "36957  44.177756  \n",
       "36958  34.374559  \n",
       "36959  45.327139  \n",
       "\n",
       "[36960 rows x 4 columns]"
      ]
     },
     "execution_count": 5,
     "metadata": {},
     "output_type": "execute_result"
    }
   ],
   "source": [
    "pd.read_csv('https://plotly.github.io/datasets/country_indicators.csv')\n",
    "\n"
   ]
  },
  {
   "cell_type": "code",
   "execution_count": 6,
   "metadata": {},
   "outputs": [
    {
     "name": "stdout",
     "output_type": "stream",
     "text": [
      "Dash is running on http://127.0.0.1:8050/\n",
      "\n",
      "Dash app running on http://127.0.0.1:8050/\n"
     ]
    }
   ],
   "source": [
    "# This is the demo from the website, modified slightly to use jupyter_dash\n",
    "\n",
    "from dash import Dash, html, dcc, Input, Output\n",
    "from jupyter_dash import JupyterDash\n",
    "import pandas as pd\n",
    "import plotly.express as px\n",
    "\n",
    "external_stylesheets = ['https://codepen.io/chriddyp/pen/bWLwgP.css']\n",
    "\n",
    "app = JupyterDash(__name__, external_stylesheets=external_stylesheets)\n",
    "\n",
    "df = info # pd.read_csv('https://plotly.github.io/datasets/country_indicators.csv')\n",
    "\n",
    "\n",
    "app.layout = html.Div([\n",
    "    html.Div([\n",
    "\n",
    "        html.Div([\n",
    "            dcc.Dropdown(\n",
    "                df.keys().unique(),\n",
    "                'ReactionTime',\n",
    "                id='crossfilter-xaxis-column',\n",
    "            ),\n",
    "            dcc.RadioItems(\n",
    "                ['Linear', 'Log'],\n",
    "                'Linear',\n",
    "                id='crossfilter-xaxis-type',\n",
    "                labelStyle={'display': 'inline-block', 'marginTop': '5px'}\n",
    "            )\n",
    "        ],\n",
    "        style={'width': '49%', 'display': 'inline-block'}),\n",
    "\n",
    "        html.Div([\n",
    "            dcc.Dropdown(\n",
    "                df.keys().unique(),\n",
    "                'ChemicalYield',\n",
    "                id='crossfilter-yaxis-column'\n",
    "            ),\n",
    "            dcc.RadioItems(\n",
    "                ['Linear', 'Log'],\n",
    "                'Linear',\n",
    "                id='crossfilter-yaxis-type',\n",
    "                labelStyle={'display': 'inline-block', 'marginTop': '5px'}\n",
    "            )\n",
    "        ], style={'width': '49%', 'float': 'right', 'display': 'inline-block'})\n",
    "    ], style={\n",
    "        'padding': '10px 5px'\n",
    "    }),\n",
    "\n",
    "    html.Div([\n",
    "        dcc.Graph(\n",
    "            id='crossfilter-indicator-scatter',\n",
    "            hoverData={'points': [{'customdata': 'Japan'}]}\n",
    "        )\n",
    "    ], style={'width': '80%', 'display': 'inline-block', 'padding': '0 20'}),\n",
    "    # html.Div([\n",
    "    #     dcc.Graph(id='x-time-series'),\n",
    "    #     dcc.Graph(id='y-time-series'),\n",
    "    # ], style={'display': 'inline-block', 'width': '49%'}),\n",
    "\n",
    "    # html.Div(dcc.Slider(\n",
    "    #     df['MetalToLinkerRatio'].min(),\n",
    "    #     df['MetalToLinkerRatio'].max(),\n",
    "    #     step=None,\n",
    "    #     id='crossfilter-year--slider',\n",
    "    #     value=df['MetalToLinkerRatio'].max(),\n",
    "    #     marks={str(MetalToLinkerRatio): str(MetalToLinkerRatio) for MetalToLinkerRatio in df['MetalToLinkerRatio'].unique()}\n",
    "    # ), style={'width': '49%', 'padding': '0px 20px 20px 20px'})\n",
    "])\n",
    "\n",
    "\n",
    "@app.callback(\n",
    "    Output('crossfilter-indicator-scatter', 'figure'),\n",
    "    Input('crossfilter-xaxis-column', 'value'),\n",
    "    Input('crossfilter-yaxis-column', 'value'),\n",
    "    Input('crossfilter-xaxis-type', 'value'),\n",
    "    Input('crossfilter-yaxis-type', 'value'),\n",
    "    # Input('crossfilter-year--slider', 'value')\n",
    "    )\n",
    "\n",
    "def update_graph(xaxis_column_name, yaxis_column_name,\n",
    "                 xaxis_type, yaxis_type,\n",
    "                 ):\n",
    "    # dff = df[df['MetalToLinkerRatio'] == year_value]\n",
    "    dff = df\n",
    "    fig = px.scatter(data_frame=dff, x=xaxis_column_name,\n",
    "            y=yaxis_column_name,\n",
    "            color='ReactionType',\n",
    "            size='MetalToLinkerRatio',\n",
    "            hover_data=dff.keys(),\n",
    "            hover_name='SampleID', # dff[yaxis_column_name]\n",
    "            )\n",
    "    \n",
    "    # fig=px.scatter(data_frame=info, x='ReactionTime', y='ChemicalYield', color='ReactionType', size='MetalToLinkerRatio', hover_data=info.keys(), log_x=True)\n",
    "\n",
    "    fig.update_traces(customdata=dff) # [yaxis_column_name])\n",
    "\n",
    "    fig.update_xaxes(title=xaxis_column_name, type='linear' if xaxis_type == 'Linear' else 'log')\n",
    "\n",
    "    fig.update_yaxes(title=yaxis_column_name, type='linear' if yaxis_type == 'Linear' else 'log')\n",
    "\n",
    "    fig.update_layout(margin={'l': 40, 'b': 40, 't': 10, 'r': 0}, hovermode='closest')\n",
    "\n",
    "    return fig\n",
    "\n",
    "\n",
    "# def create_time_series(dff, axis_type, title):\n",
    "\n",
    "#     fig = px.scatter(dff, x='MetalToLinkerRatio', y='MetalToLinkerRatio')\n",
    "\n",
    "#     fig.update_traces(mode='lines+markers')\n",
    "\n",
    "#     fig.update_xaxes(showgrid=False)\n",
    "\n",
    "#     fig.update_yaxes(type='linear' if axis_type == 'Linear' else 'log')\n",
    "\n",
    "#     fig.add_annotation(x=0, y=0.85, xanchor='left', yanchor='bottom',\n",
    "#                        xref='paper', yref='paper', showarrow=False, align='left',\n",
    "#                        text=title)\n",
    "\n",
    "#     fig.update_layout(height=225, margin={'l': 20, 'b': 30, 'r': 10, 't': 10})\n",
    "\n",
    "#     return fig\n",
    "\n",
    "\n",
    "# @app.callback(\n",
    "#     Output('x-time-series', 'figure'),\n",
    "#     Input('crossfilter-indicator-scatter', 'hoverData'),\n",
    "#     Input('crossfilter-xaxis-column', 'value'),\n",
    "#     Input('crossfilter-xaxis-type', 'value'))\n",
    "# def update_y_timeseries(hoverData, xaxis_column_name, axis_type):\n",
    "#     country_name = hoverData['points'][0]['customdata']\n",
    "#     dff = df[df['MetalToLinkerRatio'] == country_name]\n",
    "#     dff = dff[dff['MetalToLinkerRatio'] == xaxis_column_name]\n",
    "#     title = '<b>{}</b><br>{}'.format(country_name, xaxis_column_name)\n",
    "#     return create_time_series(dff, axis_type, title)\n",
    "\n",
    "\n",
    "# @app.callback(\n",
    "#     Output('y-time-series', 'figure'),\n",
    "#     Input('crossfilter-indicator-scatter', 'hoverData'),\n",
    "#     Input('crossfilter-yaxis-column', 'value'),\n",
    "#     Input('crossfilter-yaxis-type', 'value'))\n",
    "# def update_x_timeseries(hoverData, yaxis_column_name, axis_type):\n",
    "#     dff = df[df['MetalToLinkerRatio'] == hoverData['points'][0]['customdata']]\n",
    "#     dff = dff[dff['MetalToLinkerRatio'] == yaxis_column_name]\n",
    "#     return create_time_series(dff, axis_type, yaxis_column_name)\n",
    "\n",
    "\n",
    "if __name__ == '__main__':\n",
    "    app.run_server()#mode='inline')#debug=True, mode='jupyterlab')"
   ]
  },
  {
   "attachments": {},
   "cell_type": "markdown",
   "metadata": {},
   "source": [
    "Junk line\n",
    "---"
   ]
  },
  {
   "cell_type": "code",
   "execution_count": 7,
   "metadata": {},
   "outputs": [
    {
     "name": "stdout",
     "output_type": "stream",
     "text": [
      "Dash is running on http://127.0.0.1:8050/\n",
      "\n"
     ]
    }
   ],
   "source": [
    "# This is the demo from the website, modified slightly to use jupyter_dash\n",
    "\n",
    "from dash import Dash, html, dcc, Input, Output\n",
    "from jupyter_dash import JupyterDash\n",
    "import pandas as pd\n",
    "import plotly.express as px\n",
    "\n",
    "external_stylesheets = ['https://codepen.io/chriddyp/pen/bWLwgP.css']\n",
    "\n",
    "app = JupyterDash(__name__, external_stylesheets=external_stylesheets)\n",
    "\n",
    "df = pd.read_csv('https://plotly.github.io/datasets/country_indicators.csv')\n",
    "\n",
    "\n",
    "app.layout = html.Div([\n",
    "    html.Div([\n",
    "\n",
    "        html.Div([\n",
    "            dcc.Dropdown(\n",
    "                df['Indicator Name'].unique(),\n",
    "                'Fertility rate, total (births per woman)',\n",
    "                id='crossfilter-xaxis-column',\n",
    "            ),\n",
    "            dcc.RadioItems(\n",
    "                ['Linear', 'Log'],\n",
    "                'Linear',\n",
    "                id='crossfilter-xaxis-type',\n",
    "                labelStyle={'display': 'inline-block', 'marginTop': '5px'}\n",
    "            )\n",
    "        ],\n",
    "        style={'width': '49%', 'display': 'inline-block'}),\n",
    "\n",
    "        html.Div([\n",
    "            dcc.Dropdown(\n",
    "                df['Indicator Name'].unique(),\n",
    "                'Life expectancy at birth, total (years)',\n",
    "                id='crossfilter-yaxis-column'\n",
    "            ),\n",
    "            dcc.RadioItems(\n",
    "                ['Linear', 'Log'],\n",
    "                'Linear',\n",
    "                id='crossfilter-yaxis-type',\n",
    "                labelStyle={'display': 'inline-block', 'marginTop': '5px'}\n",
    "            )\n",
    "        ], style={'width': '49%', 'float': 'right', 'display': 'inline-block'})\n",
    "    ], style={\n",
    "        'padding': '10px 5px'\n",
    "    }),\n",
    "\n",
    "    html.Div([\n",
    "        dcc.Graph(\n",
    "            id='crossfilter-indicator-scatter',\n",
    "            hoverData={'points': [{'customdata': 'Japan'}]}\n",
    "        )\n",
    "    ], style={'width': '49%', 'display': 'inline-block', 'padding': '0 20'}),\n",
    "    html.Div([\n",
    "        dcc.Graph(id='x-time-series'),\n",
    "        dcc.Graph(id='y-time-series'),\n",
    "    ], style={'display': 'inline-block', 'width': '49%'}),\n",
    "\n",
    "    html.Div(dcc.Slider(\n",
    "        df['Year'].min(),\n",
    "        df['Year'].max(),\n",
    "        step=None,\n",
    "        id='crossfilter-year--slider',\n",
    "        value=df['Year'].max(),\n",
    "        marks={str(year): str(year) for year in df['Year'].unique()}\n",
    "    ), style={'width': '49%', 'padding': '0px 20px 20px 20px'})\n",
    "])\n",
    "\n",
    "\n",
    "@app.callback(\n",
    "    Output('crossfilter-indicator-scatter', 'figure'),\n",
    "    Input('crossfilter-xaxis-column', 'value'),\n",
    "    Input('crossfilter-yaxis-column', 'value'),\n",
    "    Input('crossfilter-xaxis-type', 'value'),\n",
    "    Input('crossfilter-yaxis-type', 'value'),\n",
    "    Input('crossfilter-year--slider', 'value'))\n",
    "def update_graph(xaxis_column_name, yaxis_column_name,\n",
    "                 xaxis_type, yaxis_type,\n",
    "                 year_value):\n",
    "    dff = df[df['Year'] == year_value]\n",
    "\n",
    "    fig = px.scatter(x=dff[dff['Indicator Name'] == xaxis_column_name]['Value'],\n",
    "            y=dff[dff['Indicator Name'] == yaxis_column_name]['Value'],\n",
    "            hover_name=dff[dff['Indicator Name'] == yaxis_column_name]['Country Name']\n",
    "            )\n",
    "\n",
    "    fig.update_traces(customdata=dff[dff['Indicator Name'] == yaxis_column_name]['Country Name'])\n",
    "\n",
    "    fig.update_xaxes(title=xaxis_column_name, type='linear' if xaxis_type == 'Linear' else 'log')\n",
    "\n",
    "    fig.update_yaxes(title=yaxis_column_name, type='linear' if yaxis_type == 'Linear' else 'log')\n",
    "\n",
    "    fig.update_layout(margin={'l': 40, 'b': 40, 't': 10, 'r': 0}, hovermode='closest')\n",
    "\n",
    "    return fig\n",
    "\n",
    "\n",
    "def create_time_series(dff, axis_type, title):\n",
    "\n",
    "    fig = px.scatter(dff, x='Year', y='Value')\n",
    "\n",
    "    fig.update_traces(mode='lines+markers')\n",
    "\n",
    "    fig.update_xaxes(showgrid=False)\n",
    "\n",
    "    fig.update_yaxes(type='linear' if axis_type == 'Linear' else 'log')\n",
    "\n",
    "    fig.add_annotation(x=0, y=0.85, xanchor='left', yanchor='bottom',\n",
    "                       xref='paper', yref='paper', showarrow=False, align='left',\n",
    "                       text=title)\n",
    "\n",
    "    fig.update_layout(height=225, margin={'l': 20, 'b': 30, 'r': 10, 't': 10})\n",
    "\n",
    "    return fig\n",
    "\n",
    "\n",
    "@app.callback(\n",
    "    Output('x-time-series', 'figure'),\n",
    "    Input('crossfilter-indicator-scatter', 'hoverData'),\n",
    "    Input('crossfilter-xaxis-column', 'value'),\n",
    "    Input('crossfilter-xaxis-type', 'value'))\n",
    "def update_y_timeseries(hoverData, xaxis_column_name, axis_type):\n",
    "    country_name = hoverData['points'][0]['customdata']\n",
    "    dff = df[df['Country Name'] == country_name]\n",
    "    dff = dff[dff['Indicator Name'] == xaxis_column_name]\n",
    "    title = '<b>{}</b><br>{}'.format(country_name, xaxis_column_name)\n",
    "    return create_time_series(dff, axis_type, title)\n",
    "\n",
    "\n",
    "@app.callback(\n",
    "    Output('y-time-series', 'figure'),\n",
    "    Input('crossfilter-indicator-scatter', 'hoverData'),\n",
    "    Input('crossfilter-yaxis-column', 'value'),\n",
    "    Input('crossfilter-yaxis-type', 'value'))\n",
    "def update_x_timeseries(hoverData, yaxis_column_name, axis_type):\n",
    "    dff = df[df['Country Name'] == hoverData['points'][0]['customdata']]\n",
    "    dff = dff[dff['Indicator Name'] == yaxis_column_name]\n",
    "    return create_time_series(dff, axis_type, yaxis_column_name)\n",
    "\n",
    "\n",
    "if __name__ == '__main__':\n",
    "    app.run_server()#debug=True, mode='jupyterlab')"
   ]
  },
  {
   "cell_type": "code",
   "execution_count": null,
   "metadata": {},
   "outputs": [
    {
     "data": {
      "text/plain": [
       "'H005'"
      ]
     },
     "execution_count": 53,
     "metadata": {},
     "output_type": "execute_result"
    }
   ],
   "source": [
    "# got to try to implement the following dash, so I can show the SAXS curve and McSAS fit for each: \n",
    "https://dash.plotly.com/interactive-graphing"
   ]
  },
  {
   "cell_type": "code",
   "execution_count": 21,
   "metadata": {},
   "outputs": [
    {
     "ename": "NameError",
     "evalue": "name 'i1' is not defined",
     "output_type": "error",
     "traceback": [
      "\u001b[1;31m---------------------------------------------------------------------------\u001b[0m",
      "\u001b[1;31mNameError\u001b[0m                                 Traceback (most recent call last)",
      "\u001b[1;32m~\\AppData\\Local\\Temp\\ipykernel_12916\\3249513566.py\u001b[0m in \u001b[0;36m<module>\u001b[1;34m\u001b[0m\n\u001b[1;32m----> 1\u001b[1;33m \u001b[0mi1\u001b[0m\u001b[1;33m\u001b[0m\u001b[1;33m\u001b[0m\u001b[0m\n\u001b[0m",
      "\u001b[1;31mNameError\u001b[0m: name 'i1' is not defined"
     ]
    }
   ],
   "source": [
    "i1"
   ]
  },
  {
   "cell_type": "code",
   "execution_count": null,
   "metadata": {},
   "outputs": [],
   "source": []
  }
 ],
 "metadata": {
  "kernelspec": {
   "display_name": "Python 3",
   "language": "python",
   "name": "python3"
  },
  "language_info": {
   "codemirror_mode": {
    "name": "ipython",
    "version": 3
   },
   "file_extension": ".py",
   "mimetype": "text/x-python",
   "name": "python",
   "nbconvert_exporter": "python",
   "pygments_lexer": "ipython3",
   "version": "3.9.16"
  },
  "orig_nbformat": 4
 },
 "nbformat": 4,
 "nbformat_minor": 2
}
